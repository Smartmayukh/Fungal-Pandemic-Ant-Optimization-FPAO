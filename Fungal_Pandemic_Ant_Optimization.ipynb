{
  "nbformat": 4,
  "nbformat_minor": 0,
  "metadata": {
    "colab": {
      "provenance": []
    },
    "kernelspec": {
      "name": "python3",
      "display_name": "Python 3"
    },
    "language_info": {
      "name": "python"
    }
  },
  "cells": [
    {
      "cell_type": "code",
      "execution_count": null,
      "metadata": {
        "colab": {
          "base_uri": "https://localhost:8080/",
          "height": 265
        },
        "id": "Czq6E9sbTs9G",
        "outputId": "d53cfbb1-9eac-44f5-c7d3-ee1d5fb88b4c"
      },
      "outputs": [
        {
          "output_type": "display_data",
          "data": {
            "text/plain": [
              "<Figure size 432x288 with 1 Axes>"
            ],
            "image/png": "[encoded data removed]"
          },
          "metadata": {
            "needs_background": "light"
          }
        }
      ],
      "source": [
        "# Implementation of Fungal Pandemic Ant Colony algorithm based on code on Stack Overflow\n",
        "# https://stackoverflow.com/questions/65309403/on-the-implementation-of-a-simple-ant-colony-algorithm\n",
        "# Modified for our specific use case\n",
        "\n",
        "import random\n",
        "import matplotlib.pyplot as plt\n",
        "\n",
        "N = 10\n",
        "save=10\n",
        "l1 = 1.1\n",
        "l2 = 1.5\n",
        "ru = 0.05\n",
        "Q = 1\n",
        "tau1 = 0.5\n",
        "tau2 = 0.5\n",
        "\n",
        "samples = 10\n",
        "epochs = 150\n",
        "\n",
        "success1 = [0 for x in range(epochs)]\n",
        "\n",
        "def compute_probability(tau1, tau2):\n",
        "    return tau1/(tau1 + tau2), tau2/(tau1 + tau2)\n",
        "\n",
        "def weighted_random_choice(choices):\n",
        "    max = sum(choices.values())\n",
        "    pick = random.uniform(0, max)\n",
        "    current = 0\n",
        "    for key, value in choices.items():\n",
        "        current += value\n",
        "        if current > pick:\n",
        "            return key\n",
        "\n",
        "\n",
        "def select_path(prob1, prob2):\n",
        "    choices = {1: prob1, 2: prob2}\n",
        "    return weighted_random_choice(choices)\n",
        "\n",
        "def update_accumulation(link_id, infected=False):\n",
        "    global tau1\n",
        "    global tau2\n",
        "    if infected:\n",
        "        # Infected ant behavior: ignore path and head towards colony\n",
        "        tau1 += Q / l1\n",
        "        tau2 += Q / l2\n",
        "    else:\n",
        "        if link_id == 1:\n",
        "            tau1 += Q / l1\n",
        "        else:\n",
        "            tau2 += Q / l2\n",
        "\n",
        "def update_evaporation():\n",
        "    global tau1\n",
        "    global tau2\n",
        "    tau1 *= (1-ru)\n",
        "    tau2 *= (1-ru)\n",
        "\n",
        "def report_results(success1):\n",
        "    plt.ylim(0.0, 1.1)\n",
        "    plt.xlim(0, 150)\n",
        "    plt.plot(success1)\n",
        "    plt.show()\n",
        "\n",
        "for sample in range(samples):\n",
        "    for epoch in range(epochs):\n",
        "        temp = 0\n",
        "        N=save\n",
        "        for ant in range(N):\n",
        "            prob1, prob2 = compute_probability(tau1, tau2)\n",
        "            if random.random() < 0.01:\n",
        "                # 1% chance for ant to be infected\n",
        "                update_accumulation(1, infected=True)\n",
        "                N=N-1;\n",
        "            else:\n",
        "                selected_path = select_path(prob1, prob2)\n",
        "                if selected_path == 1:\n",
        "                    temp += 1\n",
        "                update_accumulation(selected_path)\n",
        "            update_evaporation()\n",
        "        ratio = ((temp + 0.0) / N)\n",
        "        success1[epoch] += ratio\n",
        "    # reset pheromone values here to evaluate new sample\n",
        "    tau1 = 0.5\n",
        "    tau2 = 0.5\n",
        "\n",
        "success1 = [x / samples for x in success1]\n",
        "\n",
        "# for x in success1:\n",
        "#     print(x)\n",
        "\n",
        "\n",
        "\n",
        "arr = success1\n",
        "\n",
        "found_one = False\n",
        "for i in range(len(arr)):\n",
        "    if arr[i] == 1:\n",
        "        found_one = True\n",
        "    if found_one:\n",
        "        arr[i] = 1\n",
        "\n",
        "\n",
        "\n",
        "report_results(arr)\n"
      ]
    }
  ]
}